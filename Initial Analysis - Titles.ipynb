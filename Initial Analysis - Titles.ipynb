{
 "cells": [
  {
   "cell_type": "markdown",
   "id": "03fde67d",
   "metadata": {},
   "source": [
    "#### Import Libraries"
   ]
  },
  {
   "cell_type": "code",
   "execution_count": 2,
   "id": "5e61e3d0",
   "metadata": {},
   "outputs": [],
   "source": [
    "import requests\n",
    "import pandas as pd\n",
    "import time\n",
    "import datetime\n",
    "import numpy as np\n",
    "import matplotlib"
   ]
  },
  {
   "cell_type": "markdown",
   "id": "0f64d100",
   "metadata": {},
   "source": [
    "#### Create DF"
   ]
  },
  {
   "cell_type": "code",
   "execution_count": 3,
   "id": "1647cbb3",
   "metadata": {},
   "outputs": [],
   "source": [
    "df = pd.read_csv('netflix_titles.csv')"
   ]
  },
  {
   "cell_type": "code",
   "execution_count": 6,
   "id": "75678acc",
   "metadata": {},
   "outputs": [
    {
     "data": {
      "text/html": [
       "<div>\n",
       "<style scoped>\n",
       "    .dataframe tbody tr th:only-of-type {\n",
       "        vertical-align: middle;\n",
       "    }\n",
       "\n",
       "    .dataframe tbody tr th {\n",
       "        vertical-align: top;\n",
       "    }\n",
       "\n",
       "    .dataframe thead th {\n",
       "        text-align: right;\n",
       "    }\n",
       "</style>\n",
       "<table border=\"1\" class=\"dataframe\">\n",
       "  <thead>\n",
       "    <tr style=\"text-align: right;\">\n",
       "      <th></th>\n",
       "      <th>show_id</th>\n",
       "      <th>type</th>\n",
       "      <th>title</th>\n",
       "      <th>director</th>\n",
       "      <th>cast</th>\n",
       "      <th>country</th>\n",
       "      <th>date_added</th>\n",
       "      <th>release_year</th>\n",
       "      <th>rating</th>\n",
       "      <th>duration</th>\n",
       "      <th>listed_in</th>\n",
       "      <th>description</th>\n",
       "    </tr>\n",
       "  </thead>\n",
       "  <tbody>\n",
       "    <tr>\n",
       "      <th>0</th>\n",
       "      <td>s1</td>\n",
       "      <td>Movie</td>\n",
       "      <td>Dick Johnson Is Dead</td>\n",
       "      <td>Kirsten Johnson</td>\n",
       "      <td>NaN</td>\n",
       "      <td>United States</td>\n",
       "      <td>September 25, 2021</td>\n",
       "      <td>2020</td>\n",
       "      <td>PG-13</td>\n",
       "      <td>90 min</td>\n",
       "      <td>Documentaries</td>\n",
       "      <td>As her father nears the end of his life, filmm...</td>\n",
       "    </tr>\n",
       "    <tr>\n",
       "      <th>1</th>\n",
       "      <td>s2</td>\n",
       "      <td>TV Show</td>\n",
       "      <td>Blood &amp; Water</td>\n",
       "      <td>NaN</td>\n",
       "      <td>Ama Qamata, Khosi Ngema, Gail Mabalane, Thaban...</td>\n",
       "      <td>South Africa</td>\n",
       "      <td>September 24, 2021</td>\n",
       "      <td>2021</td>\n",
       "      <td>TV-MA</td>\n",
       "      <td>2 Seasons</td>\n",
       "      <td>International TV Shows, TV Dramas, TV Mysteries</td>\n",
       "      <td>After crossing paths at a party, a Cape Town t...</td>\n",
       "    </tr>\n",
       "    <tr>\n",
       "      <th>2</th>\n",
       "      <td>s3</td>\n",
       "      <td>TV Show</td>\n",
       "      <td>Ganglands</td>\n",
       "      <td>Julien Leclercq</td>\n",
       "      <td>Sami Bouajila, Tracy Gotoas, Samuel Jouy, Nabi...</td>\n",
       "      <td>NaN</td>\n",
       "      <td>September 24, 2021</td>\n",
       "      <td>2021</td>\n",
       "      <td>TV-MA</td>\n",
       "      <td>1 Season</td>\n",
       "      <td>Crime TV Shows, International TV Shows, TV Act...</td>\n",
       "      <td>To protect his family from a powerful drug lor...</td>\n",
       "    </tr>\n",
       "    <tr>\n",
       "      <th>3</th>\n",
       "      <td>s4</td>\n",
       "      <td>TV Show</td>\n",
       "      <td>Jailbirds New Orleans</td>\n",
       "      <td>NaN</td>\n",
       "      <td>NaN</td>\n",
       "      <td>NaN</td>\n",
       "      <td>September 24, 2021</td>\n",
       "      <td>2021</td>\n",
       "      <td>TV-MA</td>\n",
       "      <td>1 Season</td>\n",
       "      <td>Docuseries, Reality TV</td>\n",
       "      <td>Feuds, flirtations and toilet talk go down amo...</td>\n",
       "    </tr>\n",
       "    <tr>\n",
       "      <th>4</th>\n",
       "      <td>s5</td>\n",
       "      <td>TV Show</td>\n",
       "      <td>Kota Factory</td>\n",
       "      <td>NaN</td>\n",
       "      <td>Mayur More, Jitendra Kumar, Ranjan Raj, Alam K...</td>\n",
       "      <td>India</td>\n",
       "      <td>September 24, 2021</td>\n",
       "      <td>2021</td>\n",
       "      <td>TV-MA</td>\n",
       "      <td>2 Seasons</td>\n",
       "      <td>International TV Shows, Romantic TV Shows, TV ...</td>\n",
       "      <td>In a city of coaching centers known to train I...</td>\n",
       "    </tr>\n",
       "  </tbody>\n",
       "</table>\n",
       "</div>"
      ],
      "text/plain": [
       "  show_id     type                  title         director  \\\n",
       "0      s1    Movie   Dick Johnson Is Dead  Kirsten Johnson   \n",
       "1      s2  TV Show          Blood & Water              NaN   \n",
       "2      s3  TV Show              Ganglands  Julien Leclercq   \n",
       "3      s4  TV Show  Jailbirds New Orleans              NaN   \n",
       "4      s5  TV Show           Kota Factory              NaN   \n",
       "\n",
       "                                                cast        country  \\\n",
       "0                                                NaN  United States   \n",
       "1  Ama Qamata, Khosi Ngema, Gail Mabalane, Thaban...   South Africa   \n",
       "2  Sami Bouajila, Tracy Gotoas, Samuel Jouy, Nabi...            NaN   \n",
       "3                                                NaN            NaN   \n",
       "4  Mayur More, Jitendra Kumar, Ranjan Raj, Alam K...          India   \n",
       "\n",
       "           date_added  release_year rating   duration  \\\n",
       "0  September 25, 2021          2020  PG-13     90 min   \n",
       "1  September 24, 2021          2021  TV-MA  2 Seasons   \n",
       "2  September 24, 2021          2021  TV-MA   1 Season   \n",
       "3  September 24, 2021          2021  TV-MA   1 Season   \n",
       "4  September 24, 2021          2021  TV-MA  2 Seasons   \n",
       "\n",
       "                                           listed_in  \\\n",
       "0                                      Documentaries   \n",
       "1    International TV Shows, TV Dramas, TV Mysteries   \n",
       "2  Crime TV Shows, International TV Shows, TV Act...   \n",
       "3                             Docuseries, Reality TV   \n",
       "4  International TV Shows, Romantic TV Shows, TV ...   \n",
       "\n",
       "                                         description  \n",
       "0  As her father nears the end of his life, filmm...  \n",
       "1  After crossing paths at a party, a Cape Town t...  \n",
       "2  To protect his family from a powerful drug lor...  \n",
       "3  Feuds, flirtations and toilet talk go down amo...  \n",
       "4  In a city of coaching centers known to train I...  "
      ]
     },
     "execution_count": 6,
     "metadata": {},
     "output_type": "execute_result"
    }
   ],
   "source": [
    "df.head(5)"
   ]
  },
  {
   "cell_type": "code",
   "execution_count": 7,
   "id": "366708e4",
   "metadata": {},
   "outputs": [
    {
     "data": {
      "text/plain": [
       "show_id         object\n",
       "type            object\n",
       "title           object\n",
       "director        object\n",
       "cast            object\n",
       "country         object\n",
       "date_added      object\n",
       "release_year     int64\n",
       "rating          object\n",
       "duration        object\n",
       "listed_in       object\n",
       "description     object\n",
       "dtype: object"
      ]
     },
     "execution_count": 7,
     "metadata": {},
     "output_type": "execute_result"
    }
   ],
   "source": [
    "df.dtypes"
   ]
  },
  {
   "cell_type": "markdown",
   "id": "31a68a3a",
   "metadata": {},
   "source": [
    "#### In the following, I wanted to ensure there will be one data per column (e.g: if there are multiple directors per movie, they will all be separated into their own column. In this case, I will do it for director, cast, country, and listed_in)"
   ]
  },
  {
   "cell_type": "code",
   "execution_count": 5,
   "id": "14c61fec",
   "metadata": {},
   "outputs": [
    {
     "name": "stdout",
     "output_type": "stream",
     "text": [
      "12.0\n"
     ]
    }
   ],
   "source": [
    "comma_count = df['director'].str.count(',')\n",
    "max_comma_count = comma_count.max()\n",
    "print(max_comma_count)"
   ]
  },
  {
   "cell_type": "markdown",
   "id": "ecb7b310",
   "metadata": {},
   "source": [
    "#### I am not a movie person, so I don't know it is possible to have 12 directors arranging the same movie. So I just want to figure out what's going on here"
   ]
  },
  {
   "cell_type": "code",
   "execution_count": 9,
   "id": "68250520",
   "metadata": {},
   "outputs": [
    {
     "name": "stdout",
     "output_type": "stream",
     "text": [
      "show_id                                                     s5888\n",
      "type                                                        Movie\n",
      "title           Walt Disney Animation Studios Short Films Coll...\n",
      "director        Chris Buck, Jennifer Lee, Patrick Osborne, Lau...\n",
      "cast            Kristen Bell, Josh Gad, Jonathan Groff, Idina ...\n",
      "country                                             United States\n",
      "date_added                                       October 25, 2015\n",
      "release_year                                                 2015\n",
      "rating                                                       TV-Y\n",
      "duration                                                   90 min\n",
      "listed_in                                Children & Family Movies\n",
      "description     This collection of 12 short films from Disney ...\n",
      "Name: 5887, dtype: object\n"
     ]
    }
   ],
   "source": [
    "max_comma_count_row_index = comma_count.idxmax()\n",
    "print(df.loc[max_comma_count_row_index])"
   ]
  },
  {
   "cell_type": "markdown",
   "id": "af4c44e4",
   "metadata": {},
   "source": [
    "#### Probably there is a better way to do it, but now I'm curious if it's a thing to have multiple directors working on the same movie"
   ]
  },
  {
   "cell_type": "code",
   "execution_count": 6,
   "id": "974ff0ef",
   "metadata": {},
   "outputs": [
    {
     "name": "stdout",
     "output_type": "stream",
     "text": [
      "11.0\n"
     ]
    }
   ],
   "source": [
    "second_largest_comma_count = comma_count.nlargest(2).iloc[-1]\n",
    "print(second_largest_comma_count)"
   ]
  },
  {
   "cell_type": "code",
   "execution_count": 7,
   "id": "69868f51",
   "metadata": {},
   "outputs": [
    {
     "name": "stdout",
     "output_type": "stream",
     "text": [
      "     show_id   type         title  \\\n",
      "6910   s6911  Movie  HALO Legends   \n",
      "7515   s7516  Movie      Movie 43   \n",
      "\n",
      "                                               director  \\\n",
      "6910  Shinji Aramaki, Mamoru Oshii, Hideki Futamura,...   \n",
      "7515  Peter Farrelly, Will Graham, Steve Carr, Griff...   \n",
      "\n",
      "                                                   cast               country  \\\n",
      "6910  Andy McAvin, James Faulkner, Luci Christian, J...  United States, Japan   \n",
      "7515  Greg Kinnear, Dennis Quaid, Common, Seth MacFa...         United States   \n",
      "\n",
      "         date_added  release_year rating duration  \\\n",
      "6910    May 1, 2017          2009  PG-13  117 min   \n",
      "7515  April 9, 2019          2013      R   94 min   \n",
      "\n",
      "                                              listed_in  \\\n",
      "6910  Action & Adventure, Anime Features, Sci-Fi & F...   \n",
      "7515                                           Comedies   \n",
      "\n",
      "                                            description  \n",
      "6910  This anthology features seven independent anim...  \n",
      "7515  An eye-popping cast stars in this sketch-comed...  \n"
     ]
    }
   ],
   "source": [
    "second_largest_row = df[comma_count == second_largest_comma_count]\n",
    "\n",
    "# print the row with the second largest comma count\n",
    "print(second_largest_row)"
   ]
  },
  {
   "cell_type": "code",
   "execution_count": 15,
   "id": "0e41e2fa",
   "metadata": {},
   "outputs": [
    {
     "name": "stdout",
     "output_type": "stream",
     "text": [
      "director\n",
      "0.0     5559\n",
      "1.0      542\n",
      "2.0       37\n",
      "3.0       15\n",
      "4.0        7\n",
      "6.0        2\n",
      "7.0        1\n",
      "8.0        2\n",
      "9.0        3\n",
      "10.0       2\n",
      "11.0       2\n",
      "12.0       1\n",
      "dtype: int64\n"
     ]
    }
   ],
   "source": [
    "grouped = df.groupby(comma_count).size()\n",
    "\n",
    "# print the result\n",
    "print(grouped)"
   ]
  },
  {
   "cell_type": "markdown",
   "id": "1ef30e27",
   "metadata": {},
   "source": [
    "#### For now I will keep it as it is -- I do not think I would like to have multiple columns for director with majority as a null value. Same with other columns"
   ]
  }
 ],
 "metadata": {
  "kernelspec": {
   "display_name": "Python 3 (ipykernel)",
   "language": "python",
   "name": "python3"
  },
  "language_info": {
   "codemirror_mode": {
    "name": "ipython",
    "version": 3
   },
   "file_extension": ".py",
   "mimetype": "text/x-python",
   "name": "python",
   "nbconvert_exporter": "python",
   "pygments_lexer": "ipython3",
   "version": "3.9.7"
  }
 },
 "nbformat": 4,
 "nbformat_minor": 5
}
